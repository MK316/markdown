{
  "nbformat": 4,
  "nbformat_minor": 0,
  "metadata": {
    "colab": {
      "name": "md_example05.ipynb",
      "provenance": [],
      "authorship_tag": "ABX9TyNeMJ8H148WuKHfJVEp2lSm",
      "include_colab_link": true
    },
    "kernelspec": {
      "name": "python3",
      "display_name": "Python 3"
    },
    "language_info": {
      "name": "python"
    }
  },
  "cells": [
    {
      "cell_type": "markdown",
      "metadata": {
        "id": "view-in-github",
        "colab_type": "text"
      },
      "source": [
        "<a href=\"https://colab.research.google.com/github/MK316/markdown/blob/main/md_example05.ipynb\" target=\"_parent\"><img src=\"https://colab.research.google.com/assets/colab-badge.svg\" alt=\"Open In Colab\"/></a>"
      ]
    },
    {
      "cell_type": "markdown",
      "source": [
        "# 🐸 Markdown for hyperlinks:\n",
        "\n",
        "* Weblinks\n",
        "* Github files\n",
        "* Images"
      ],
      "metadata": {
        "id": "a3EWatPW3EwV"
      }
    },
    {
      "cell_type": "markdown",
      "source": [
        "## [1] Weblink: \n",
        "* List of Aesop fables: https://read.gov/aesop/001.html\n",
        "* [List of Aesop fables](https://read.gov/aesop/001.html): (📍 double click here to see the markdown codes.)"
      ],
      "metadata": {
        "id": "Reiry7c53Ui0"
      }
    },
    {
      "cell_type": "markdown",
      "source": [
        "## [2] Github files:\n",
        "\n",
        "* Data files: [data1](https://raw.githubusercontent.com/MK316/data/main/names1000.csv)\n",
        "* Markdown(MD) file source: [data2](https://raw.githubusercontent.com/MK316/markdown/main/README.md)\n",
        "* Github ipynb file: [data3](https://github.com/MK316/markdown/blob/main/md_example04.ipynb)"
      ],
      "metadata": {
        "id": "rO5QOWhW4OrH"
      }
    },
    {
      "cell_type": "markdown",
      "source": [
        "## [3] Image file path:\n",
        "\n",
        "![logo](https://github.com/MK316/MK316.github.io/raw/main/images/snow.jpg)"
      ],
      "metadata": {
        "id": "WR7ixaFd5Btl"
      }
    }
  ]
}