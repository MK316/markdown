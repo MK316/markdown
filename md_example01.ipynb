{
  "nbformat": 4,
  "nbformat_minor": 0,
  "metadata": {
    "colab": {
      "name": "md_example01.ipynb",
      "provenance": [],
      "authorship_tag": "ABX9TyNUzD3pTk4/fhlYu5KLKQ8h",
      "include_colab_link": true
    },
    "kernelspec": {
      "name": "python3",
      "display_name": "Python 3"
    },
    "language_info": {
      "name": "python"
    }
  },
  "cells": [
    {
      "cell_type": "markdown",
      "metadata": {
        "id": "view-in-github",
        "colab_type": "text"
      },
      "source": [
        "<a href=\"https://colab.research.google.com/github/MK316/markdown/blob/main/md_example01.ipynb\" target=\"_parent\"><img src=\"https://colab.research.google.com/assets/colab-badge.svg\" alt=\"Open In Colab\"/></a>"
      ]
    },
    {
      "cell_type": "markdown",
      "source": [
        "# This is the first Header (\\#)\n",
        "\n",
        "- Double click this cell to see the codes\n",
        "- To hide back the codes, double click the right side panel (display panel)\n",
        "- Unfold this cell by clicking ▶️ to see sub headers"
      ],
      "metadata": {
        "id": "hs4vtQcDKqJ1"
      }
    },
    {
      "cell_type": "code",
      "source": [
        "# This is a code cell to run python codes"
      ],
      "metadata": {
        "id": "sydQit8iL0X3"
      },
      "execution_count": null,
      "outputs": []
    },
    {
      "cell_type": "markdown",
      "source": [
        "## This is the second header(\\#\\#)"
      ],
      "metadata": {
        "id": "whZM_DUJLIIb"
      }
    },
    {
      "cell_type": "code",
      "source": [
        "# This is a code cell to run python codes"
      ],
      "metadata": {
        "id": "Znb5LussL6OK"
      },
      "execution_count": null,
      "outputs": []
    },
    {
      "cell_type": "markdown",
      "source": [
        "### This is the third header (\\#\\#\\#)"
      ],
      "metadata": {
        "id": "P33V9WA2LNT-"
      }
    },
    {
      "cell_type": "code",
      "source": [
        "# This is a code cell to run python codes"
      ],
      "metadata": {
        "id": "5Q9MoelUL6sW"
      },
      "execution_count": null,
      "outputs": []
    },
    {
      "cell_type": "markdown",
      "source": [
        "#### This is the fourth header"
      ],
      "metadata": {
        "id": "d9HNMRItLSy_"
      }
    },
    {
      "cell_type": "code",
      "source": [
        "# This is a code cell to run python codes"
      ],
      "metadata": {
        "id": "eSdanKFeL7OM"
      },
      "execution_count": null,
      "outputs": []
    },
    {
      "cell_type": "markdown",
      "source": [
        "Text with no header "
      ],
      "metadata": {
        "id": "Vhcy1xMZLWFF"
      }
    },
    {
      "cell_type": "code",
      "execution_count": null,
      "metadata": {
        "id": "nga3b3qBKpQw"
      },
      "outputs": [],
      "source": [
        "# This is a code cell to run python codes"
      ]
    }
  ]
}