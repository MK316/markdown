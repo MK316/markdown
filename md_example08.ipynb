{
  "nbformat": 4,
  "nbformat_minor": 0,
  "metadata": {
    "colab": {
      "private_outputs": true,
      "provenance": [],
      "authorship_tag": "ABX9TyPcV/p5hO32nNqjaav97HwF",
      "include_colab_link": true
    },
    "kernelspec": {
      "name": "python3",
      "display_name": "Python 3"
    },
    "language_info": {
      "name": "python"
    }
  },
  "cells": [
    {
      "cell_type": "markdown",
      "metadata": {
        "id": "view-in-github",
        "colab_type": "text"
      },
      "source": [
        "<a href=\"https://colab.research.google.com/github/MK316/markdown/blob/main/md_example08.ipynb\" target=\"_parent\"><img src=\"https://colab.research.google.com/assets/colab-badge.svg\" alt=\"Open In Colab\"/></a>"
      ]
    },
    {
      "cell_type": "markdown",
      "source": [
        "# 🌀 Topic: Markdown image link and display"
      ],
      "metadata": {
        "id": "9DJUcrUNDFK_"
      }
    },
    {
      "cell_type": "markdown",
      "source": [
        "## [1] Image in a text cell\n",
        "\n",
        "Double click each cell below to see the source in the text cell."
      ],
      "metadata": {
        "id": "IYfatWkWDKk6"
      }
    },
    {
      "cell_type": "markdown",
      "source": [
        "A. This is emoji icons: 😊"
      ],
      "metadata": {
        "id": "0DsvbnuNDOGr"
      }
    },
    {
      "cell_type": "markdown",
      "source": [
        "B. This is an image: Double click on this cell to see how this image is actually saved and displayed.\n",
        "\n",
        "![smiley_mini.png](data:image/png;base64,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)"
      ],
      "metadata": {
        "id": "7Wk-XHZBEUqi"
      }
    },
    {
      "cell_type": "markdown",
      "source": [
        "Q: What's the difference between A and B?"
      ],
      "metadata": {
        "id": "Y-9av-QdEaFn"
      }
    },
    {
      "cell_type": "markdown",
      "source": [
        "## [2] Image display in a code cell"
      ],
      "metadata": {
        "id": "bzszE4_PFMG0"
      }
    },
    {
      "cell_type": "code",
      "source": [
        "from IPython.display import Image"
      ],
      "metadata": {
        "id": "PiO1v7ttFi0R"
      },
      "execution_count": null,
      "outputs": []
    },
    {
      "cell_type": "markdown",
      "source": [
        "DIY\n",
        "\n",
        "1. Upload an image file (find one online) on the left panel (Click 📁 icon)\n",
        "2. Check out the file name (e.g., image.png or image.jpeg)"
      ],
      "metadata": {
        "id": "Xz0gxd1SFq8b"
      }
    },
    {
      "cell_type": "code",
      "source": [
        "# 'image.png' has to change according to your image file\n",
        "\n",
        "myimage = Image('image.png')\n",
        "display(myimage)"
      ],
      "metadata": {
        "id": "VUDx0js2Fphb"
      },
      "execution_count": null,
      "outputs": []
    },
    {
      "cell_type": "markdown",
      "source": [
        "DIY\n",
        "\n",
        "How to set the size of image"
      ],
      "metadata": {
        "id": "dwJHge7eGfP0"
      }
    },
    {
      "cell_type": "code",
      "source": [
        "myimage2 = Image('image.png', width=50, height=50)\n",
        "display(myimage2)"
      ],
      "metadata": {
        "id": "1oTZAneiGhW3"
      },
      "execution_count": null,
      "outputs": []
    },
    {
      "cell_type": "markdown",
      "source": [
        "DIY\n",
        "\n",
        "Display an image from online source \n",
        "(e.g., github image file)\n",
        "\n",
        "=> To try, copy the link below and paste it when running the code below\n",
        "\n",
        "https://github.com/MK316/markdown/raw/main/avatar1.png\n",
        "\n",
        "Important: Check the original link (copied from url address) and what has to change in the link to display a github image.\n",
        "\n",
        "+ File link original: https://github.com/MK316/markdown/blob/main/avatar1.png\n",
        "+ File link to read (change is made): https://github.com/MK316/markdown/raw/main/avatar1.png\n",
        "\n",
        "=> See the difference? \n",
        "\n",
        "/blob/ ==> /raw/"
      ],
      "metadata": {
        "id": "zU0Wq7TlG3s8"
      }
    },
    {
      "cell_type": "code",
      "source": [
        "from IPython.display import Image, display\n",
        "\n",
        "url = input(\"Paste url: \")\n",
        "myimage = Image(url, width = 800, height=600)\n",
        "display(myimage)"
      ],
      "metadata": {
        "id": "kz5q7gXvJe2C"
      },
      "execution_count": null,
      "outputs": []
    }
  ]
}