{
  "nbformat": 4,
  "nbformat_minor": 0,
  "metadata": {
    "colab": {
      "name": "md_example04.ipynb",
      "provenance": [],
      "authorship_tag": "ABX9TyNG7RzPTM1PZy0p64GFqI8s",
      "include_colab_link": true
    },
    "kernelspec": {
      "name": "python3",
      "display_name": "Python 3"
    },
    "language_info": {
      "name": "python"
    }
  },
  "cells": [
    {
      "cell_type": "markdown",
      "metadata": {
        "id": "view-in-github",
        "colab_type": "text"
      },
      "source": [
        "<a href=\"https://colab.research.google.com/github/MK316/markdown/blob/main/md_example04.ipynb\" target=\"_parent\"><img src=\"https://colab.research.google.com/assets/colab-badge.svg\" alt=\"Open In Colab\"/></a>"
      ]
    },
    {
      "cell_type": "markdown",
      "source": [
        "# ❄️ Topic: Markdown making dropdown boxes on code cells"
      ],
      "metadata": {
        "id": "Po5--L0pvtDG"
      }
    },
    {
      "cell_type": "markdown",
      "source": [
        "- Goal: we'll be making a simple read-aloud tool for a learner who doesn't know Python coding.\n",
        "\n",
        "- Tool description: \n",
        ">1. The user can type or paste texts to create an audio file. (e.g., This is my first visit.)\n",
        ">2. The user can choose an accent among English(en), Korean(ko), French(fr), or Spanish(es).\n",
        ">3. The audio will be created to playable to save (left folder panel).\n",
        "> Note: You can type Korean, English, French, or Spanish texts."
      ],
      "metadata": {
        "id": "EnyTOZRBv1ww"
      }
    },
    {
      "cell_type": "code",
      "execution_count": 6,
      "metadata": {
        "cellView": "form",
        "id": "8GCi4Ieivskp"
      },
      "outputs": [],
      "source": [
        "#@markdown 🌀 Step1: Run this code to import {gTTS} packages\n",
        "%%capture\n",
        "!pip install gTTS\n",
        "from gtts import gTTS\n",
        "from IPython.display import Audio"
      ]
    },
    {
      "cell_type": "code",
      "source": [
        "#@markdown 🌀Step2: Making a {tts} function (e.g., tts (_text_to_say_)) \n",
        "def tts(text):\n",
        "  text_to_say = text\n",
        "\n",
        "  language = \"en\" #@param [\"en\", \"fr\",\"ko\",'es']\n",
        "  print(\"Play language accent: %s\"%language)\n",
        "\n",
        "  gtts_object = gTTS(text = text_to_say,\n",
        "                     lang = language,\n",
        "                     slow = False) \n",
        "  gtts_object.save(\"myaudio.wav\")\n",
        "  return Audio(\"myaudio.wav\")"
      ],
      "metadata": {
        "id": "YIuW3kFxxuub"
      },
      "execution_count": 20,
      "outputs": []
    },
    {
      "cell_type": "code",
      "source": [
        "#@markdown 🌀Step3: Write your text or paste a text to create an audio file. \\\n",
        "#@markdown e.g., My name is TTS and nice to meet you.\n",
        "\n",
        "text_to_say = input()\n",
        "texts = str(text_to_say)\n",
        "\n",
        "print(\"Help: to change the speed, click 3 dots in the audio window.\")\n",
        "tts(texts)"
      ],
      "metadata": {
        "colab": {
          "base_uri": "https://localhost:8080/",
          "height": 128
        },
        "id": "fQz1qmIGyVp3",
        "outputId": "7fedb1e1-f4c1-402d-cd1f-563187d29142"
      },
      "execution_count": 23,
      "outputs": [
        {
          "output_type": "stream",
          "name": "stdout",
          "text": [
            "Let's meet in Myeong-dong.\n",
            "Help: to change the speed, click 3 dots in the audio window.\n",
            "Play language accent: en\n"
          ]
        },
        {
          "output_type": "execute_result",
          "data": {
            "text/plain": [
              "<IPython.lib.display.Audio object>"
            ],
            "text/html": [
              "\n",
              "                <audio controls=\"controls\" >\n",
              "                    <source src=\"data:audio/x-wav;base64,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\" type=\"audio/x-wav\" />\n",
              "                    Your browser does not support the audio element.\n",
              "                </audio>\n",
              "              "
            ]
          },
          "metadata": {},
          "execution_count": 23
        }
      ]
    }
  ]
}