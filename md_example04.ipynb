{
  "nbformat": 4,
  "nbformat_minor": 0,
  "metadata": {
    "colab": {
      "name": "md_example04.ipynb",
      "provenance": [],
      "authorship_tag": "ABX9TyNl2s1aClo24crGCMNdc3Bw",
      "include_colab_link": true
    },
    "kernelspec": {
      "name": "python3",
      "display_name": "Python 3"
    },
    "language_info": {
      "name": "python"
    }
  },
  "cells": [
    {
      "cell_type": "markdown",
      "metadata": {
        "id": "view-in-github",
        "colab_type": "text"
      },
      "source": [
        "<a href=\"https://colab.research.google.com/github/MK316/markdown/blob/main/md_example04.ipynb\" target=\"_parent\"><img src=\"https://colab.research.google.com/assets/colab-badge.svg\" alt=\"Open In Colab\"/></a>"
      ]
    },
    {
      "cell_type": "markdown",
      "source": [
        "# ❄️ Topic: Markdown making dropdown boxes on code cells"
      ],
      "metadata": {
        "id": "Po5--L0pvtDG"
      }
    },
    {
      "cell_type": "markdown",
      "source": [
        "- Goal: we'll be making a simple read-aloud tool for a learner who doesn't know Python coding.\n",
        "\n",
        "- Tool description: \n",
        ">1. The user can type or paste texts to create an audio file. (e.g., This is my first visit.)\n",
        ">2. The user can choose an accent among English(en), Korean(ko), or French(fr).\n",
        ">3. The audio will be created to playable to save (left folder panel)."
      ],
      "metadata": {
        "id": "EnyTOZRBv1ww"
      }
    },
    {
      "cell_type": "code",
      "execution_count": 6,
      "metadata": {
        "cellView": "form",
        "id": "8GCi4Ieivskp"
      },
      "outputs": [],
      "source": [
        "#@markdown 🌀 Step1: Run this code to import {gTTS} packages\n",
        "%%capture\n",
        "!pip install gTTS\n",
        "from gtts import gTTS\n",
        "from IPython.display import Audio"
      ]
    },
    {
      "cell_type": "code",
      "source": [
        "#@markdown 🌀Step2: Making a {tts} function (e.g., tts (_text_to_say_)) \n",
        "def tts(text):\n",
        "  text_to_say = text\n",
        "\n",
        "  language = \"en\" #@param [\"en\", \"fr\",\"ko\",'es']\n",
        "  print(\"Play language accent: %s\"%language)\n",
        "\n",
        "  gtts_object = gTTS(text = text_to_say,\n",
        "                     lang = language,\n",
        "                     slow = False) \n",
        "  gtts_object.save(\"myaudio.wav\")\n",
        "  return Audio(\"myaudio.wav\")"
      ],
      "metadata": {
        "cellView": "form",
        "id": "YIuW3kFxxuub"
      },
      "execution_count": 7,
      "outputs": []
    },
    {
      "cell_type": "code",
      "source": [
        "#@markdown 🌀Step3: Write your text or paste a text to create an audio file. \\\n",
        "#@markdown e.g., My name is TTS and nice to meet you.\n",
        "\n",
        "text_to_say = input()\n",
        "texts = str(text_to_say)\n",
        "\n",
        "tts(texts)"
      ],
      "metadata": {
        "colab": {
          "base_uri": "https://localhost:8080/",
          "height": 111
        },
        "cellView": "form",
        "id": "fQz1qmIGyVp3",
        "outputId": "a531f6ba-c2fd-46ad-b340-ad91ba70c615"
      },
      "execution_count": 8,
      "outputs": [
        {
          "output_type": "stream",
          "name": "stdout",
          "text": [
            "My name is TTS and nice to meet you.\n",
            "Play language accent: en\n"
          ]
        },
        {
          "output_type": "execute_result",
          "data": {
            "text/plain": [
              "<IPython.lib.display.Audio object>"
            ],
            "text/html": [
              "\n",
              "                <audio controls=\"controls\" >\n",
              "                    <source src=\"data:audio/x-wav;base64,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\" type=\"audio/x-wav\" />\n",
              "                    Your browser does not support the audio element.\n",
              "                </audio>\n",
              "              "
            ]
          },
          "metadata": {},
          "execution_count": 8
        }
      ]
    }
  ]
}