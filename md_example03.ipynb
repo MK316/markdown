{
  "nbformat": 4,
  "nbformat_minor": 0,
  "metadata": {
    "colab": {
      "name": "md_example03.ipynb",
      "provenance": [],
      "authorship_tag": "ABX9TyOZOk4YYL+lkYg8qSGg7ahy",
      "include_colab_link": true
    },
    "kernelspec": {
      "name": "python3",
      "display_name": "Python 3"
    },
    "language_info": {
      "name": "python"
    }
  },
  "cells": [
    {
      "cell_type": "markdown",
      "metadata": {
        "id": "view-in-github",
        "colab_type": "text"
      },
      "source": [
        "<a href=\"https://colab.research.google.com/github/MK316/markdown/blob/main/md_example03.ipynb\" target=\"_parent\"><img src=\"https://colab.research.google.com/assets/colab-badge.svg\" alt=\"Open In Colab\"/></a>"
      ]
    },
    {
      "cell_type": "markdown",
      "source": [
        "# Markdown for code blocks on text cells"
      ],
      "metadata": {
        "id": "aRM1umsAqhxB"
      }
    },
    {
      "cell_type": "markdown",
      "source": [
        "## How to create my own function:\n",
        "✂️ Step 1: Copy the following code to a code cell and run:\n",
        "\n",
        "```\n",
        "def add(x,y):\n",
        "  result = int(x)+int(y)\n",
        "  return result\n",
        "```"
      ],
      "metadata": {
        "id": "JgzRIiy9rGmW"
      }
    },
    {
      "cell_type": "code",
      "execution_count": 11,
      "metadata": {
        "id": "J-fFxeJcqeQc"
      },
      "outputs": [],
      "source": [
        "#This is a code cell. Define your function here (paste the above codes here):\n"
      ]
    },
    {
      "cell_type": "markdown",
      "source": [
        "Step 2: Run the following code to check the function.\n",
        "The codes hidden below look like this:\n",
        "\n",
        "```\n",
        "numbers = input()\n",
        "num = numbers.split(',')\n",
        "print(\"The result is: \", add(num[0],num[1]))\n",
        "```"
      ],
      "metadata": {
        "id": "m_t0ocREuq7O"
      }
    },
    {
      "cell_type": "code",
      "source": [
        "#@markdown 🌀 Step 2: Write two numbers to add separating tham with a comma: e.g, \"13, 6\"\n",
        "numbers = input()\n",
        "num = numbers.split(',')\n",
        "print(\"The result is: \", add(num[0],num[1]))"
      ],
      "metadata": {
        "colab": {
          "base_uri": "https://localhost:8080/"
        },
        "cellView": "form",
        "id": "0g5kAUNFsCEI",
        "outputId": "f41f45dc-9321-4e11-f668-842979b1035a"
      },
      "execution_count": 19,
      "outputs": [
        {
          "output_type": "stream",
          "name": "stdout",
          "text": [
            "283749,89776555\n",
            "The result is:  90060304\n"
          ]
        }
      ]
    }
  ]
}