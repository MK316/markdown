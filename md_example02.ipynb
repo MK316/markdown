{
  "nbformat": 4,
  "nbformat_minor": 0,
  "metadata": {
    "colab": {
      "name": "md_example02.ipynb",
      "provenance": [],
      "authorship_tag": "ABX9TyOKBWCSPUOfFrQWwMDysD24",
      "include_colab_link": true
    },
    "kernelspec": {
      "name": "python3",
      "display_name": "Python 3"
    },
    "language_info": {
      "name": "python"
    }
  },
  "cells": [
    {
      "cell_type": "markdown",
      "metadata": {
        "id": "view-in-github",
        "colab_type": "text"
      },
      "source": [
        "<a href=\"https://colab.research.google.com/github/MK316/markdown/blob/main/md_example02.ipynb\" target=\"_parent\"><img src=\"https://colab.research.google.com/assets/colab-badge.svg\" alt=\"Open In Colab\"/></a>"
      ]
    },
    {
      "cell_type": "markdown",
      "source": [
        "# 🚩 Topic: Markdown for comment lines (#) on code cells"
      ],
      "metadata": {
        "id": "kjX0_-SdopQ9"
      }
    },
    {
      "cell_type": "code",
      "execution_count": 2,
      "metadata": {
        "colab": {
          "base_uri": "https://localhost:8080/"
        },
        "id": "Xm9_EivRompK",
        "outputId": "7d62cd4e-0327-4647-d110-2fd2d06e41ad"
      },
      "outputs": [
        {
          "output_type": "stream",
          "name": "stdout",
          "text": [
            "The code cell processed appears here: this is the result.\n"
          ]
        }
      ],
      "source": [
        "# This is a code cell with a comment line starting with \"#\".\n",
        "print(\"The code cell processed appears here: this is the result.\")"
      ]
    },
    {
      "cell_type": "code",
      "source": [
        "#@markdown\n",
        "\n",
        "print(\"The code lines can be hidden using '#@markdown' starting each code cell.\")"
      ],
      "metadata": {
        "colab": {
          "base_uri": "https://localhost:8080/"
        },
        "cellView": "form",
        "id": "MOQo-kLOo_IR",
        "outputId": "469cd80b-93a7-4564-ed24-289e55dbbd32"
      },
      "execution_count": 3,
      "outputs": [
        {
          "output_type": "stream",
          "name": "stdout",
          "text": [
            "The code lines can be hidden using '#@markdown' starting each code cell.\n"
          ]
        }
      ]
    },
    {
      "cell_type": "code",
      "source": [
        "#@markdown This comment is visible, still hiding the codes.\n",
        "\n",
        "print(\"The codes are hidden. To see the codes click 'Show code'\")\n",
        "print(\"To hide back the codes, double click the right panel when the codes are unhidden.\")"
      ],
      "metadata": {
        "colab": {
          "base_uri": "https://localhost:8080/"
        },
        "cellView": "form",
        "id": "fadhexMcpdUc",
        "outputId": "7b0ab299-d2a7-406a-e685-78a38247f997"
      },
      "execution_count": 7,
      "outputs": [
        {
          "output_type": "stream",
          "name": "stdout",
          "text": [
            "The codes are hidden. To see the codes click 'Show code'\n",
            "To hide back the codes, double click the right panel when the codes are unhidden.\n"
          ]
        }
      ]
    }
  ]
}