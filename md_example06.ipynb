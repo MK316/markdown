{
  "nbformat": 4,
  "nbformat_minor": 0,
  "metadata": {
    "colab": {
      "name": "md_example06.ipynb",
      "provenance": [],
      "authorship_tag": "ABX9TyPRJQYRjm9gG/tgCf4sf7bI",
      "include_colab_link": true
    },
    "kernelspec": {
      "name": "python3",
      "display_name": "Python 3"
    },
    "language_info": {
      "name": "python"
    }
  },
  "cells": [
    {
      "cell_type": "markdown",
      "metadata": {
        "id": "view-in-github",
        "colab_type": "text"
      },
      "source": [
        "<a href=\"https://colab.research.google.com/github/MK316/markdown/blob/main/md_example06.ipynb\" target=\"_parent\"><img src=\"https://colab.research.google.com/assets/colab-badge.svg\" alt=\"Open In Colab\"/></a>"
      ]
    },
    {
      "cell_type": "markdown",
      "source": [
        "# Topic: Hide code processing\n",
        "\n",
        "Use %%capture in a code cell\n",
        "\n",
        "``` \n",
        "%%capture\n",
        "install gTTS\n",
        "```"
      ],
      "metadata": {
        "id": "a8a6vntJ6aeV"
      }
    },
    {
      "cell_type": "code",
      "execution_count": 1,
      "metadata": {
        "id": "_1iyst166YI5"
      },
      "outputs": [],
      "source": [
        "%%capture\n",
        "!pip install gTTS"
      ]
    },
    {
      "cell_type": "markdown",
      "source": [
        "# Why hiding the code processing?\n",
        "\n",
        "* Sometimes, installation privdes long running messages\n",
        "* Maybe the result is an interim process and no need to show.\n",
        "* For beginners, or learners who simply want the result don't need to see the code processing, which may intimidate them :-)"
      ],
      "metadata": {
        "id": "30ij-wdR7BMl"
      }
    },
    {
      "cell_type": "code",
      "source": [
        "#@markdown 🚩 Import packages and define functions:\n",
        "\n",
        "import nltk\n",
        "from nltk.tokenize import word_tokenize, sent_tokenize\n",
        "nltk.download(\"punkt\")\n",
        "# import pandas as pd\n",
        "# import matlablib.pyplot as plt\n",
        "# import numpy as numpy\n",
        "\n",
        "import os\n",
        "url = \"https://raw.githubusercontent.com/MK316/Class_Spring2022/main/ER_0102030506.txt\"\n",
        "os.system(\"curl \" + url + \" > ER_0102030506.txt\")\n",
        "\n",
        "f = open('ER_0102030506.txt','r')\n",
        "text = f.read()\n",
        "\n",
        "words = word_tokenize(text)\n",
        "words[:30]"
      ],
      "metadata": {
        "cellView": "form",
        "id": "0wtiJrBM7iL5"
      },
      "execution_count": null,
      "outputs": []
    },
    {
      "cell_type": "code",
      "source": [
        "#@markdown 🚩 Same codes hiding the process:\n",
        "%%capture\n",
        "import nltk\n",
        "from nltk.tokenize import word_tokenize, sent_tokenize\n",
        "nltk.download(\"punkt\")\n",
        "# import pandas as pd\n",
        "# import matlablib.pyplot as plt\n",
        "# import numpy as numpy\n",
        "\n",
        "import os\n",
        "url = \"https://raw.githubusercontent.com/MK316/Class_Spring2022/main/ER_0102030506.txt\"\n",
        "os.system(\"curl \" + url + \" > ER_0102030506.txt\")\n",
        "\n",
        "f = open('ER_0102030506.txt','r')\n",
        "text = f.read()\n",
        "\n",
        "words = word_tokenize(text)\n",
        "words[:30]"
      ],
      "metadata": {
        "colab": {
          "base_uri": "https://localhost:8080/"
        },
        "cellView": "form",
        "id": "W_3PbL-B-JZC",
        "outputId": "3316cfa3-cfde-4175-9749-11023a112262"
      },
      "execution_count": 14,
      "outputs": [
        {
          "output_type": "stream",
          "name": "stderr",
          "text": [
            "[nltk_data] Downloading package punkt to /root/nltk_data...\n",
            "[nltk_data]   Package punkt is already up-to-date!\n"
          ]
        }
      ]
    }
  ]
}